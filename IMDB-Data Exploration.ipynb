{
  "metadata": {
    "kernelspec": {
      "display_name": "R",
      "language": "R",
      "name": "ir"
    },
    "language_info": {
      "file_extension": ".r",
      "pygments_lexer": "r",
      "mimetype": "text/x-r-source",
      "version": "3.4.1",
      "codemirror_mode": "r",
      "name": "R"
    }
  },
  "nbformat": 4,
  "cells": [
    {
      "cell_type": "markdown",
      "metadata": {
        "_uuid": "9106953ca72e7ccf9bfe62bae3bd6a7af1b19953"
      },
      "source": [
        "## **Overview and Purpose**\n",
        "\n",
        "The Purpose of the notebook is to conduct a data exploration exercise on the IMDB Top 5000 movies that would answer the below questions:\n",
        "* What do the Plot Key words, Movie Title and Genres of teh top movies indicate ?\n",
        "* What is the trend for the Gross Revenue and Budgetof the movies in nominal terms as well as inflation adjusted terms ?\n",
        "* Who are the top actors, directors and movies across decades ?"
      ]
    },
    {
      "cell_type": "code",
      "metadata": {
        "_uuid": "7911209ccd0c5dc8d7229e03be0592666013e640",
        "_cell_guid": "a948cc2f-47e7-4d80-83da-4a722be6094e"
      },
      "outputs": [],
      "source": [
        "library(ggplot2) # Data visualization\n",
        "library(readr) # CSV file I/O, e.g. the read_csv function\n",
        "list.files(\"../input\")\n",
        "library(tm)\n",
        "library(SnowballC)\n",
        "library(wordcloud)\n",
        "library(RColorBrewer) \n",
        "library(dplyr)\n",
        "library(tidyr)\n",
        "library(reshape2)\n",
        "library(gganimate)\n",
        "options(warn=-1)\n",
        "movie.data <- read.csv(\"../input/movie_metadata.csv\",header = TRUE)"
      ],
      "execution_count": 1
    },
    {
      "cell_type": "markdown",
      "metadata": {
        "_uuid": "67df0919725e5e3f0e240cc49a47f99e184e5285"
      },
      "source": [
        "## **Word Clouds on Plot Key words, Movie Title and Genres**"
      ]
    },
    {
      "cell_type": "code",
      "metadata": {
        "_uuid": "5a0cb14dd9480380d6e8bece0c63e79c4c7f4538",
        "_cell_guid": "17b15ee3-929b-402c-bb50-55798bebe79f"
      },
      "outputs": [],
      "source": [
        "options(repr.plot.width=8, repr.plot.height=8)\n",
        "#Word-cloud for Plot Keywords\n",
        "corpus <- Corpus(VectorSource(gsub(\"[^a-zA-Z]+\", \" \", movie.data$plot_keywords)))\n",
        "corpus <- tm_map(corpus, PlainTextDocument)\n",
        "corpus <- tm_map(corpus, removeWords , stopwords('english'))\n",
        "corpus <- tm_map(corpus, removeWords , c('word','actor','cast','title','based'))\n",
        "corpus <- Corpus(VectorSource(corpus))\n",
        "pal2 <- brewer.pal(8,\"Dark2\")\n",
        "wordcloud(corpus,scale=c(8,1), max.words=500, random.order=FALSE, rot.per=.15, colors=pal2 )\n"
      ],
      "execution_count": 39
    },
    {
      "cell_type": "code",
      "metadata": {
        "_uuid": "e76c0d18c1850049751d1c6d5d1bd343bde0e3ab",
        "_cell_guid": "dbe018cd-83ad-4ae3-81a1-6204092ffa09"
      },
      "outputs": [],
      "source": [
        "#Word-cloud for Movie Titles\n",
        "corpus <- Corpus(VectorSource(gsub(\"[^a-zA-Z]+\", \" \", movie.data$movie_title)))\n",
        "corpus <- tm_map(corpus, PlainTextDocument)\n",
        "corpus <- tm_map(corpus, removePunctuation)\n",
        "corpus <- tm_map(corpus, removeWords , stopwords('english'))\n",
        "corpus <- tm_map(corpus, removeWords , c(\"the\",\"The\",\"THE\"))\n",
        "corpus <- Corpus(VectorSource(corpus))\n",
        "pal2 <- brewer.pal(8,\"Dark2\")\n",
        "wordcloud(corpus,scale=c(8,1), max.words=100, random.order=FALSE, rot.per=.20, colors=pal2)"
      ],
      "execution_count": 3
    },
    {
      "cell_type": "code",
      "metadata": {
        "_uuid": "9a3e8a5929941bd869fe7b712bb9ac0e215b3805",
        "_cell_guid": "8222dc22-cc2f-49d3-a0f9-01e9c87189c3"
      },
      "outputs": [],
      "source": [
        "#Word-cloud for Movie Genres\n",
        "corpus <- Corpus(VectorSource(gsub(\"[^a-zA-Z]+\", \" \", movie.data$genres)))\n",
        "corpus <- tm_map(corpus, PlainTextDocument)\n",
        "corpus <- tm_map(corpus, removePunctuation)\n",
        "corpus <- tm_map(corpus, removeWords , stopwords('english'))\n",
        "corpus <- tm_map(corpus, removeWords , c(\"the\",\"The\",\"THE\",\"film\"))\n",
        "corpus <- Corpus(VectorSource(corpus))\n",
        "pal2 <- brewer.pal(8,\"Dark2\")\n",
        "wordcloud(corpus,scale=c(8,1), max.words=100, random.order=FALSE, rot.per=.15, colors=pal2)"
      ],
      "execution_count": 4
    },
    {
      "cell_type": "markdown",
      "metadata": {
        "_uuid": "74598544bea53148d7153c4df11b1a368225d878",
        "_cell_guid": "48c66969-4c96-4a51-a9d8-f67e500f9b3b"
      },
      "source": [
        "**Mining Insights based on the Word clouds:**\n",
        "* The Plot keywords paints a dark and gruesome picture of the world. In fact a sentimental analysis on the plot keywords returns a negative view of the world composed of death, nudity and love.\n",
        "* For the Movie Title word cloud, there are surprisingly lot of movie titles with the word \"Movie\" & \"Story\" in them.\n",
        "* Also in the Movie Title word cloud, we see a dark world comprising of death and love. I wonder why are movies based on dark themes ?\n",
        "* From the genre word cloud, it is clear that majority of the movies belong to Drama and Comedy Genre with the Romantic genre coming in a close second.\n",
        "* If we compare the plot keywords with the genre word cloud, it is hard to see why the positivity of the comedy movies is not reflected in the Plot keywords word cloud\n"
      ]
    },
    {
      "cell_type": "markdown",
      "metadata": {
        "_uuid": "9860452ace14ac7d882439ca4f25b50ad255f81a",
        "_cell_guid": "5d8a01bf-aede-4d7c-aa53-d1d2569a4cd3"
      },
      "source": [
        "## ** Understanding revenue and budget trends across 100 years**\n",
        "\n",
        "We plot the budget and revenue across decades, first in nominal terms and then adjusting according to the inflation index to visualize the trends across time\n",
        "\n",
        "Note: The Next bunch of code is to incorporate the CPI Index into the dataset"
      ]
    },
    {
      "cell_type": "code",
      "metadata": {
        "collapsed": true,
        "_uuid": "2fff03dc8aaaa27004aadf11a053d93ad28f6c3a",
        "_cell_guid": "ceb0136a-5684-4796-bb59-c4107717e271"
      },
      "outputs": [],
      "source": [
        "#Creating the Inflation Index Data Frame from the actual Labour Department CPI Index.\n",
        "## Note: If someone knows how to load the data directly into a Kaggle kernel from outside, then please help!\n",
        "x <- c(1913,1914,1915,       1916,       1917,       1918,       1919,       1920,       1921,       1922,       1923,       1924,       1925,       1926,       1927,       1928,       1929,       1930,       1931,       1932,       1933,       1934,       1935,       1936,       1937,       1938,       1939,       1940,       1941,       1942,       1943,       1944,       1945,       1946,       1947,       1948,       1949,       1950,       1951,       1952,       1953,       1954,       1955,       1956,       1957,       1958,       1959,       1960,       1961,       1962,       1963,       1964,       1965,       1966,       1967,       1968,       1969,       1970,       1971,       1972,       1973,       1974,       1975,       1976,       1977,       1978,       1979,       1980,       1981,       1982,       1983,       1984,       1985,       1986,       1987,       1988,       1989,       1990,       1991,       1992,       1993,       1994,       1995,       1996,       1997,       1998,       1999,       2000,       2001,       2002,       2003,       2004,       2005,       2006,       2007,       2008,       2009,       2010,       2011,       2012,       2013,       2014,       2015,       2016 )\n",
        "y = c(9.9,      10,      10.1,      10.9,      12.8,      15.1,      17.3,      20,      17.9,      16.8,      17.1,      17.1,      17.5,      17.7,      17.4,      17.1,      17.1,      16.7,      15.2,      13.7,      13,      13.4,      13.7,      13.9,      14.4,      14.1,     13.9,      14,      14.7,      16.3,      17.3,      17.6,      18,      19.5,      22.3,      24.1,      23.8,      24.1,      26,      26.5,      26.7,      26.9,      26.8,      27.2,      28.1,      28.9,      29.1,      29.6,      29.9,      30.2,      30.6,      31,      31.5,      32.4,      33.4,      34.8,      36.7,      38.8,      40.5,      41.8,      44.4,      49.3,      53.8,      56.9,      60.6,      65.2,      72.6,      82.4,      90.9,      96.5,      99.6,      103.9,      107.6,      109.6,      113.6,      118.3,      124,      130.7,      136.2,      140.3,      144.5,      148.2,      152.4,      156.9,      160.5,      163,      166.6,      172.2,      177.1,      179.9,      184,      188.9,      195.3,      201.6,      207.3,      215.303,      214.537,      218.056,      224.939,      229.594,      232.957,      236.736,      237.017,      240.007) \n",
        "inf.index <- data.frame(\"Year\" = x,\"CPI\"= y)\n",
        "\n",
        "## Creating a new temporary variable Movie Revenue\n",
        "movie.revenue <- movie.data %>%\n",
        "  filter(!is.na(gross)) %>%\n",
        "  filter(!is.na(budget)) %>%\n",
        "  filter(!is.na(title_year))\n",
        "\n",
        "# Associating the Inflation Index with the Movie Revenue\n",
        "inf <- function(year) {\n",
        "   new.cpi <- inf.index[which(inf.index$Year==2016),2]\n",
        "   old.cpi <- inf.index[which(inf.index$Year==year),2]\n",
        "   return ((new.cpi-old.cpi)/old.cpi)\n",
        " }\n",
        "inf.ind <- sapply(movie.revenue$title_year,inf)\n",
        "movie.revenue$inf.index <- inf.ind"
      ],
      "execution_count": 5
    },
    {
      "cell_type": "code",
      "metadata": {
        "_uuid": "1354cc819d6bae9af0124eb373f9fee930ae28a7",
        "_cell_guid": "b260c270-4e88-45de-9ec7-443648115542"
      },
      "outputs": [],
      "source": [
        "#Creating a new variable Decade for visualizing each decade\n",
        "movie.revenue$decade <- \"None\"\n",
        "movie.revenue$decade <- ifelse(between(movie.revenue$title_year,1910,1920),\"1910-1920\",movie.revenue$decade)\n",
        "movie.revenue$decade <- ifelse(between(movie.revenue$title_year,1920,1930),\"1920-1930\",movie.revenue$decade)\n",
        "movie.revenue$decade <- ifelse(between(movie.revenue$title_year,1930,1940),\"1930-1940\",movie.revenue$decade)\n",
        "movie.revenue$decade <- ifelse(between(movie.revenue$title_year,1940,1950),\"1940-1950\",movie.revenue$decade)\n",
        "movie.revenue$decade <- ifelse(between(movie.revenue$title_year,1950,1960),\"1950-1960\",movie.revenue$decade)\n",
        "movie.revenue$decade <- ifelse(between(movie.revenue$title_year,1960,1970),\"1960-1970\",movie.revenue$decade)\n",
        "movie.revenue$decade <- ifelse(between(movie.revenue$title_year,1970,1980),\"1970-1980\",movie.revenue$decade)\n",
        "movie.revenue$decade <- ifelse(between(movie.revenue$title_year,1980,1990),\"1980-1990\",movie.revenue$decade)\n",
        "movie.revenue$decade <- ifelse(between(movie.revenue$title_year,1990,2000),\"1990-2000\",movie.revenue$decade)\n",
        "movie.revenue$decade <- ifelse(between(movie.revenue$title_year,2000,2010),\"2000-2010\",movie.revenue$decade)\n",
        "movie.revenue$decade <- ifelse(between(movie.revenue$title_year,2010,2020),\"2010-2016\",movie.revenue$decade)\n",
        "\n",
        "#Count of movies for each decade in the database\n",
        "movie.revenue %>%\n",
        "  count(decade)"
      ],
      "execution_count": 6
    },
    {
      "cell_type": "code",
      "metadata": {
        "_uuid": "2a79c3f1310313454ec200df654c8ac937011a6f",
        "_cell_guid": "a65d3c58-f403-49e7-8555-646a25f7a0c0"
      },
      "outputs": [],
      "source": [
        "#Plotting Gross Revenue of the movie across decades\n",
        "options(repr.plot.width=8, repr.plot.height=4)\n",
        "movie.revenue %>%\n",
        "  filter(gross < 25000000) %>%\n",
        "  ggplot() +\n",
        "  geom_boxplot(aes(decade,gross,fill = decade) ) +\n",
        "  scale_y_continuous(name=\"Gross Revnue\", labels = scales::comma)+\n",
        "  scale_fill_brewer(palette=\"Set3\")+\n",
        "  theme(axis.text.x = element_text(angle = 90, hjust = 1))+\n",
        "  xlab(\"Decade\")\n",
        "\n",
        "# Plotting Inflation Adjusted gross revenue acorss decades\n",
        "movie.revenue %>%\n",
        "  filter(gross < 25000000) %>%\n",
        "  mutate(gross.adj = gross * inf.index , budget.adj = budget * inf.index) %>% \n",
        "  ggplot() +\n",
        "  geom_boxplot(aes(decade,gross.adj, fill = decade))+\n",
        "  scale_y_continuous(name=\"Inflation Adjusted Gross Revnue\", labels = scales::comma)+\n",
        "  scale_fill_brewer(palette=\"Set3\")+\n",
        "  theme(axis.text.x = element_text(angle = 90, hjust = 1))+\n",
        "  xlab(\"Decade\")"
      ],
      "execution_count": 7
    },
    {
      "cell_type": "code",
      "metadata": {
        "_uuid": "bb16dee6ad5a71836777155b8d21b396103e22bf",
        "_cell_guid": "47e1cb8a-8e36-4ef4-91e4-f09b26e963fa"
      },
      "outputs": [],
      "source": [
        "#Plotting Budget of the movie across decades\n",
        "options(repr.plot.width=8, repr.plot.height=4)\n",
        "movie.revenue %>%\n",
        "  filter(budget < 25000000) %>%\n",
        "  ggplot() +\n",
        "  geom_boxplot(aes(decade,budget,fill = decade) ) +\n",
        "  scale_y_continuous(name=\"Budget\", labels = scales::comma)+\n",
        "  scale_fill_brewer(palette=\"Set3\")+\n",
        "  theme(axis.text.x = element_text(angle = 90, hjust = 1))+\n",
        "  xlab(\"Decade\")\n",
        "\n",
        "# Plotting Inflation Adjusted Budget acorss decades\n",
        "movie.revenue %>%\n",
        "  filter(budget < 25000000) %>%\n",
        "  mutate(gross.adj = gross * inf.index , budget.adj = budget * inf.index) %>% \n",
        "  ggplot() +\n",
        "  geom_boxplot(aes(decade,budget.adj, fill = decade))+\n",
        "  scale_y_continuous(name=\"Inflation Adjusted Budget\", labels = scales::comma)+\n",
        "  scale_fill_brewer(palette=\"Set3\")+\n",
        "  theme(axis.text.x = element_text(angle = 90, hjust = 1))+\n",
        "  xlab(\"Decade\")"
      ],
      "execution_count": 8
    },
    {
      "cell_type": "code",
      "metadata": {
        "_uuid": "871be6dec5a5e61f3bb08a53c4fbf86df05e71a1",
        "_cell_guid": "b13598f3-b4d5-476b-9f68-8be259138d0d"
      },
      "outputs": [],
      "source": [
        "#Plotting the Outliers for Gross Revnue and Budget in each decade\n",
        "options(repr.plot.width=8, repr.plot.height=4)\n",
        "movie.revenue %>%\n",
        "  mutate(gross.adj = gross * inf.index , budget.adj = budget * inf.index) %>% \n",
        "  ggplot() +\n",
        "  geom_boxplot(aes(decade,gross, fill = decade))+\n",
        "  scale_y_continuous(name=\"Gross Revenue\", labels = scales::comma)+\n",
        "  scale_fill_brewer(palette=\"Set3\")+\n",
        "  theme(axis.text.x = element_text(angle = 90, hjust = 1))+\n",
        "  xlab(\"Decade\")\n",
        "\n",
        "movie.revenue %>%\n",
        "  mutate(gross.adj = gross * inf.index , budget.adj = budget * inf.index) %>% \n",
        "  ggplot() +\n",
        "  geom_boxplot(aes(decade,budget, fill = decade))+\n",
        "  scale_y_continuous(name=\"Budget\", labels = scales::comma)+\n",
        "  scale_fill_brewer(palette=\"Set3\")+\n",
        "  theme(axis.text.x = element_text(angle = 90, hjust = 1))+\n",
        "  xlab(\"Decade\")"
      ],
      "execution_count": 9
    },
    {
      "cell_type": "markdown",
      "metadata": {
        "collapsed": true,
        "_uuid": "a0ae9d853ede4eed674607494c099fb48a5db37c",
        "_cell_guid": "55055948-06f7-414f-8528-8e55583e2760"
      },
      "source": [
        "**Mining Insights based on Gross Revenue and Budget Trends:**\n",
        "* The Gross revue by itself seems to be random across decades. However, when we plot the inflation adjusted gross revenue we clearly see that it is nose-diving since the 60's decade. \n",
        "* The Budget on which movies are being made also do not show any pattern until we plot the Inflation adjusted Budget, which too clearly indicates that on inflation adjusted basis the budget on which movies are being made in Hollywood are going down.\n",
        "* These graphs are indicative of the average trends as, when we plot the outliers they seem to be increasing every decade. Thus masking the real trend in the industry."
      ]
    },
    {
      "cell_type": "markdown",
      "metadata": {
        "collapsed": true,
        "_uuid": "cd7ae3bab5b0ffee48d84ba2193d2216cee7b253",
        "_cell_guid": "ac7e5ebe-f5b1-4b00-af8c-14b181e018da"
      },
      "source": [
        "## ** Identifying the top directors, actors and movies across 100 years based on Gross Revenue**"
      ]
    },
    {
      "cell_type": "code",
      "metadata": {
        "_uuid": "6409573b2b009eb2abdfd1a87eccc195e02882fb",
        "_cell_guid": "6d65c01e-8db8-4b86-a32a-dd329ee7054c"
      },
      "outputs": [],
      "source": [
        "# Identifying the Top 5 Directors in Each Decade based on Gross Revenue:\n",
        "options(repr.plot.width=8, repr.plot.height=6)\n",
        "\n",
        "top_directors <- movie.revenue %>%\n",
        "  group_by(decade) %>%\n",
        "  select(director_name,gross,decade,movie_title) %>%\n",
        "  arrange(desc(gross)) %>%\n",
        "  top_n(n=5,wt=gross)\n",
        "\n",
        "ggplot(top_directors , aes(director_name,decade,color = decade , size = gross , label = movie_title) ) +\n",
        "  geom_point()+\n",
        "  coord_flip()+\n",
        "  theme(axis.text.x = element_text(angle = 90, hjust = 1))+\n",
        "  xlab(\"Director\")+\n",
        "  ylab(\"Decade\")+\n",
        "  ggtitle(\"Top Directors based on movie's Gross Revenue for each decade\")\n",
        "\n",
        "# Identifying the Top 5 Directors in Each Decade based on IMDB Rank:\n",
        "top_directors <- movie.revenue %>%\n",
        "  group_by(decade) %>%\n",
        "  select(director_name,imdb_score,decade,movie_title) %>%\n",
        "  arrange(desc(imdb_score)) %>%\n",
        "  top_n(n=5,wt=imdb_score)\n",
        "\n",
        "ggplot(top_directors , aes(director_name,decade,color = decade , size = imdb_score , label = movie_title) ) +\n",
        "  geom_point()+\n",
        "  coord_flip()+\n",
        "  theme(axis.text.x = element_text(angle = 90, hjust = 1))+\n",
        "  xlab(\"Director\")+\n",
        "  ylab(\"Decade\")+\n",
        "  ggtitle(\"Top Directors based on movie's IMDB Rank for each decade\")"
      ],
      "execution_count": 32
    },
    {
      "cell_type": "code",
      "metadata": {
        "_uuid": "effb0a4225a4f2d1302a168c12c92a19ccad4216",
        "_cell_guid": "7e7e7875-a4c2-4138-a4b1-161d3b07629e"
      },
      "outputs": [],
      "source": [
        "# Identifying the Top 5 Actors in Each Decade based on Gross Revenue:\n",
        "options(repr.plot.width=8, repr.plot.height=8)\n",
        "actor_names <- movie.revenue %>%\n",
        "  select(actor_1_name,actor_2_name,actor_3_name,movie_title,decade,gross,budget,imdb_score)\n",
        "\n",
        "actor_names <- melt(actor_names , id.vars = c(\"movie_title\",\"decade\",\"gross\",\"budget\",\"imdb_score\"))\n",
        "\n",
        "actor_names <- separate(data = actor_names, col = movie_title , into = c(\"movie_title\",\"extra\"), sep = \"Â\")\n",
        "\n",
        "top_actors <- actor_names %>%\n",
        "  group_by(decade) %>%\n",
        "  select(value,gross,decade,movie_title) %>%\n",
        "  arrange(desc(gross)) %>%\n",
        "  top_n(n=5,wt=gross)\n",
        "\n",
        "ggplot(top_actors , aes(value,decade,color = decade , size = gross , label = movie_title) ) +\n",
        "  geom_point()+\n",
        "  coord_flip()+\n",
        "  theme(axis.text.x = element_text(angle = 90, hjust = 1))+\n",
        "  xlab(\"Actor\")+\n",
        "  ylab(\"Decade\")+\n",
        "  ggtitle(\"Top Actors based on movie's Gross Revenue for each decade\")\n",
        "\n",
        "#Identifying Top Actors based on IMDB Rank:\n",
        "top_actors <- actor_names %>%\n",
        "  group_by(decade) %>%\n",
        "  select(value,imdb_score,decade,movie_title) %>%\n",
        "  arrange(desc(imdb_score)) %>%\n",
        "  top_n(n=5,wt=imdb_score)\n",
        "\n",
        "ggplot(top_actors , aes(value,decade,color = decade , size = imdb_score , label = movie_title) ) +\n",
        "  geom_point()+\n",
        "  coord_flip()+\n",
        "  theme(axis.text.x = element_text(angle = 90, hjust = 1))+\n",
        "  xlab(\"Actor\")+\n",
        "  ylab(\"Decade\")+\n",
        "  ggtitle(\"Top Actors based on movie's IMDB Rank for each decade\")"
      ],
      "execution_count": 33
    },
    {
      "cell_type": "code",
      "metadata": {
        "_uuid": "5a822895008f32504ca4844f41867f65e8fc8001"
      },
      "outputs": [],
      "source": [
        "# Identifying the Top 5 Movie Titles in Each Decade based on Gross Revenue:\n",
        "movie_names <- separate(data = movie.revenue, col = movie_title , into = c(\"movie_title\",\"extra\"), sep = \"Â\")\n",
        "\n",
        "top_movies <- movie_names %>%\n",
        "  group_by(decade) %>%\n",
        "  select(movie_title,gross,decade) %>%\n",
        "  arrange(desc(gross)) %>%\n",
        "  top_n(n=5,wt=gross)\n",
        "\n",
        "ggplot(top_movies , aes(movie_title,decade,color = decade , size = gross , label = movie_title) ) +\n",
        "  geom_point()+\n",
        "  coord_flip()+\n",
        "  theme(axis.text.x = element_text(angle = 90, hjust = 1))+\n",
        "  xlab(\"Movie Titles\")+\n",
        "  ylab(\"Decade\")+\n",
        "  ggtitle(\"Top Movies based on Gross Revenue for each decade\")\n",
        "\n",
        "# Identifying the Top 5 Movie Titles in Each Decade based on IMDB Rank:\n",
        "top_movies <- movie_names %>%\n",
        "  group_by(decade) %>%\n",
        "  select(movie_title,imdb_score,decade) %>%\n",
        "  arrange(desc(imdb_score)) %>%\n",
        "  top_n(n=5,wt=imdb_score)\n",
        "\n",
        "ggplot(top_movies , aes(movie_title,decade,color = decade , size = imdb_score , label = movie_title) ) +\n",
        "  geom_point()+\n",
        "  coord_flip()+\n",
        "  theme(axis.text.x = element_text(angle = 90, hjust = 1))+\n",
        "  xlab(\"Movie Titles\")+\n",
        "  ylab(\"Decade\")+\n",
        "  ggtitle(\"Top Movies based on IMDB Rank for each decade\")"
      ],
      "execution_count": 34
    },
    {
      "cell_type": "markdown",
      "metadata": {
        "_uuid": "858b21ecf7ce445ee1bcfb851cbb0ad19d19fc6f"
      },
      "source": [
        "**Mining Insights on Top Movies, Actors and Directors**\n",
        "* Clearly there is a striking difference in the movies which top the chart based on Gross Revenue and the movies that top the chart based on IMDB Rank for each decade. \n",
        "* The actors and directors associated with the top movies that gross highly are different than the actors and directors that feature in top movies based on IMDB Rank\n",
        "* Surprisingly, female actors are under represented on the top actors list in both lists by IMDB Score and Gross Revenue. Although their under representation in the top movies by IMDB Rank is striking\n",
        "* Christopher Nolan, James Cameroon, George Lucas, Steven Spielsberg, Robert Zemicks and David Lean have directed top movies in more than 1 decade\n",
        "* Morgan Freeman is the only actor who seems to have acted in top movies by IMDB Rank acorss decade.\n",
        "* Harrison Ford, Ian Macdiarmid, and Kenny Baker are the actors who have actop in top grossing movies across decades."
      ]
    },
    {
      "cell_type": "code",
      "metadata": {
        "collapsed": true,
        "_uuid": "623b967db67e57e13e54cbb31ee13ddea3fec275"
      },
      "outputs": [],
      "source": [],
      "execution_count": null
    }
  ],
  "nbformat_minor": 1
}